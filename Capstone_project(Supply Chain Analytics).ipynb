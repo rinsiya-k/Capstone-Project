{
 "cells": [
  {
   "cell_type": "markdown",
   "id": "35b629a2-93cb-4374-a9b9-1a6ac78594d2",
   "metadata": {},
   "source": [
    "## Supply Chain Analytics : Optimizing Sales, Inventory, and Logistics"
   ]
  },
  {
   "cell_type": "code",
   "execution_count": 1,
   "id": "ff7ec5bc-ab45-49e1-8125-5b6311b210b2",
   "metadata": {},
   "outputs": [],
   "source": [
    "import pandas as pd\n",
    "import numpy as np\n",
    "import matplotlib.pyplot as plt\n",
    "import seaborn as sns"
   ]
  },
  {
   "cell_type": "markdown",
   "id": "a6075908-c8ab-44f8-91ed-5f57f085dfdc",
   "metadata": {},
   "source": [
    "#### Load Datasets"
   ]
  },
  {
   "cell_type": "code",
   "execution_count": 2,
   "id": "aabaf3b1-3bf2-4ba3-bf69-1e779f5197df",
   "metadata": {},
   "outputs": [],
   "source": [
    "orders=pd.read_csv(r'C:\\Users\\USER\\Downloads\\orders_shipments.csv')\n",
    "fulfillment=pd.read_csv(r'C:\\Users\\USER\\Downloads\\rinsiya_supply chain_dataset\\fulfillment.csv')\n",
    "inventory=pd.read_csv(r'C:\\Users\\USER\\Downloads\\rinsiya_supply chain_dataset\\inventory.csv')"
   ]
  },
  {
   "cell_type": "markdown",
   "id": "20dba1cc-0d6c-435b-905c-ae442b922c44",
   "metadata": {},
   "source": [
    "### Display basic info and first few rows of each dataset"
   ]
  },
  {
   "cell_type": "code",
   "execution_count": 3,
   "id": "615ded0c-3dbe-487d-9c9c-a2111fccdf7e",
   "metadata": {},
   "outputs": [
    {
     "name": "stdout",
     "output_type": "stream",
     "text": [
      "<class 'pandas.core.frame.DataFrame'>\n",
      "RangeIndex: 30871 entries, 0 to 30870\n",
      "Data columns (total 24 columns):\n",
      " #   Column                       Non-Null Count  Dtype \n",
      "---  ------                       --------------  ----- \n",
      " 0   Order ID                     30871 non-null  int64 \n",
      " 1    Order Item ID               30871 non-null  int64 \n",
      " 2    Order YearMonth             30871 non-null  int64 \n",
      " 3    Order Year                  30871 non-null  int64 \n",
      " 4    Order Month                 30871 non-null  int64 \n",
      " 5    Order Day                   30871 non-null  int64 \n",
      " 6   Order Time                   30871 non-null  object\n",
      " 7   Order Quantity               30871 non-null  int64 \n",
      " 8   Product Department           30871 non-null  object\n",
      " 9   Product Category             30871 non-null  object\n",
      " 10  Product Name                 30871 non-null  object\n",
      " 11   Customer ID                 30871 non-null  int64 \n",
      " 12  Customer Market              30871 non-null  object\n",
      " 13  Customer Region              30871 non-null  object\n",
      " 14  Customer Country             30871 non-null  object\n",
      " 15  Warehouse Country            30871 non-null  object\n",
      " 16  Shipment Year                30871 non-null  int64 \n",
      " 17  Shipment Month               30871 non-null  int64 \n",
      " 18  Shipment Day                 30871 non-null  int64 \n",
      " 19  Shipment Mode                30871 non-null  object\n",
      " 20   Shipment Days - Scheduled   30871 non-null  int64 \n",
      " 21   Gross Sales                 30871 non-null  int64 \n",
      " 22   Discount %                  30871 non-null  object\n",
      " 23   Profit                      30871 non-null  int64 \n",
      "dtypes: int64(14), object(10)\n",
      "memory usage: 5.7+ MB\n",
      "<class 'pandas.core.frame.DataFrame'>\n",
      "RangeIndex: 118 entries, 0 to 117\n",
      "Data columns (total 2 columns):\n",
      " #   Column                                Non-Null Count  Dtype  \n",
      "---  ------                                --------------  -----  \n",
      " 0   Product Name                          118 non-null    object \n",
      " 1    Warehouse Order Fulfillment (days)   118 non-null    float64\n",
      "dtypes: float64(1), object(1)\n",
      "memory usage: 2.0+ KB\n",
      "<class 'pandas.core.frame.DataFrame'>\n",
      "RangeIndex: 4200 entries, 0 to 4199\n",
      "Data columns (total 4 columns):\n",
      " #   Column                   Non-Null Count  Dtype  \n",
      "---  ------                   --------------  -----  \n",
      " 0   Product Name             4200 non-null   object \n",
      " 1    Year Month              4200 non-null   int64  \n",
      " 2    Warehouse Inventory     4200 non-null   int64  \n",
      " 3   Inventory Cost Per Unit  4200 non-null   float64\n",
      "dtypes: float64(1), int64(2), object(1)\n",
      "memory usage: 131.4+ KB\n"
     ]
    },
    {
     "data": {
      "text/plain": [
       "((None,\n",
       "     Order ID    Order Item ID    Order YearMonth    Order Year    Order Month   \\\n",
       "  0       3535             8793             201502          2015              2   \n",
       "  1       4133            10320             201503          2015              3   \n",
       "  2       7396            18517             201504          2015              4   \n",
       "  3      11026            27608             201506          2015              6   \n",
       "  4      11026            27609             201506          2015              6   \n",
       "  \n",
       "      Order Day  Order Time  Order Quantity Product Department Product Category  \\\n",
       "  0           21      14:07               1           Fan Shop          Fishing   \n",
       "  1            2      07:37               1           Fan Shop          Fishing   \n",
       "  2           18      22:47               1           Fan Shop          Fishing   \n",
       "  3           10      22:32               1           Fan Shop          Fishing   \n",
       "  4           10      22:32               1           Fan Shop          Fishing   \n",
       "  \n",
       "     ... Customer Country  Warehouse Country Shipment Year Shipment Month  \\\n",
       "  0  ...           Mexico        Puerto Rico          2015              2   \n",
       "  1  ...           Brazil        Puerto Rico          2015              3   \n",
       "  2  ...           Mexico        Puerto Rico          2015              4   \n",
       "  3  ...          Denmark        Puerto Rico          2015              6   \n",
       "  4  ...          Denmark        Puerto Rico          2015              6   \n",
       "  \n",
       "    Shipment Day   Shipment Mode   Shipment Days - Scheduled    Gross Sales   \\\n",
       "  0           27  Standard Class                            4            400   \n",
       "  1            6  Standard Class                            4            400   \n",
       "  2           20  Standard Class                            4            400   \n",
       "  3           12  Standard Class                            4            400   \n",
       "  4           12  Standard Class                            4            400   \n",
       "  \n",
       "      Discount %   Profit   \n",
       "  0          0.25      200  \n",
       "  1          0.09      200  \n",
       "  2          0.06      200  \n",
       "  3          0.15      200  \n",
       "  4          0.13      200  \n",
       "  \n",
       "  [5 rows x 24 columns]),\n",
       " (None,\n",
       "                                      Product Name  \\\n",
       "  0               Perfect Fitness Perfect Rip Deck   \n",
       "  1           Nike Men's Dri-FIT Victory Golf Polo   \n",
       "  2               O'Brien Men's Neoprene Life Vest   \n",
       "  3              Nike Men's Free 5.0+ Running Shoe   \n",
       "  4  Under Armour Girls' Toddler Spine Surge Runni   \n",
       "  \n",
       "      Warehouse Order Fulfillment (days)   \n",
       "  0                                   8.3  \n",
       "  1                                   6.6  \n",
       "  2                                   5.5  \n",
       "  3                                   9.4  \n",
       "  4                                   6.3  ),\n",
       " (None,\n",
       "                                      Product Name   Year Month   \\\n",
       "  0               Perfect Fitness Perfect Rip Deck        201712   \n",
       "  1           Nike Men's Dri-FIT Victory Golf Polo        201712   \n",
       "  2               O'Brien Men's Neoprene Life Vest        201712   \n",
       "  3              Nike Men's Free 5.0+ Running Shoe        201712   \n",
       "  4  Under Armour Girls' Toddler Spine Surge Runni        201712   \n",
       "  \n",
       "      Warehouse Inventory   Inventory Cost Per Unit  \n",
       "  0                      0                  0.69517  \n",
       "  1                      2                  1.29291  \n",
       "  2                      0                  0.56531  \n",
       "  3                      1                  1.26321  \n",
       "  4                      0                  1.47648  ))"
      ]
     },
     "execution_count": 3,
     "metadata": {},
     "output_type": "execute_result"
    }
   ],
   "source": [
    "orders_info=orders.info(),orders.head()\n",
    "fulfillment_info=fulfillment.info(),fulfillment.head()\n",
    "inventory_info=inventory.info(),inventory.head()\n",
    "orders_info,fulfillment_info,inventory_info"
   ]
  },
  {
   "cell_type": "code",
   "execution_count": null,
   "id": "f17a51a1-04c4-4d6e-893a-40992a48270c",
   "metadata": {},
   "outputs": [],
   "source": []
  },
  {
   "cell_type": "markdown",
   "id": "b0bf6207-2c2d-4b5c-98e4-ef16c440dd41",
   "metadata": {},
   "source": [
    "### Data Cleaning"
   ]
  },
  {
   "cell_type": "markdown",
   "id": "21033b82-790c-4034-9ccc-4573a22a5768",
   "metadata": {},
   "source": [
    "#### Remove extra spaces and replace with underscores"
   ]
  },
  {
   "cell_type": "code",
   "execution_count": 6,
   "id": "111b3e52-e84c-410c-be7f-f896ebe56686",
   "metadata": {},
   "outputs": [],
   "source": [
    "orders.columns=orders.columns.str.replace(\" \",\"_\").str.strip()\n",
    "fulfillment.columns=fulfillment.columns.str.replace(\" \",\"_\").str.strip()\n",
    "inventory.columns=inventory.columns.str.replace(\" \",\"_\").str.strip()\n"
   ]
  },
  {
   "cell_type": "markdown",
   "id": "43410a9d-fd39-4043-abdd-5c73f040911a",
   "metadata": {},
   "source": [
    "#### Display updated column names\n"
   ]
  },
  {
   "cell_type": "code",
   "execution_count": 7,
   "id": "aa60c3d7-5fff-4f7d-80cf-5d23f1645990",
   "metadata": {},
   "outputs": [
    {
     "name": "stdout",
     "output_type": "stream",
     "text": [
      "Orders Shipments Columns: ['Order_ID_', '_Order_Item_ID_', '_Order_YearMonth_', '_Order_Year_', '_Order_Month_', '_Order_Day_', 'Order_Time', 'Order_Quantity', 'Product_Department', 'Product_Category', 'Product_Name', '_Customer_ID_', 'Customer_Market', 'Customer_Region', 'Customer_Country', 'Warehouse_Country', 'Shipment_Year', 'Shipment_Month', 'Shipment_Day', 'Shipment_Mode', '_Shipment_Days_-_Scheduled_', '_Gross_Sales_', '_Discount_%_', '_Profit_']\n",
      "Fulfillment Columns: ['Product_Name', '_Warehouse_Order_Fulfillment_(days)_']\n",
      "Inventory Columns: ['Product_Name', '_Year_Month_', '_Warehouse_Inventory_', 'Inventory_Cost_Per_Unit']\n"
     ]
    }
   ],
   "source": [
    "print(\"Orders Shipments Columns:\",orders.columns.tolist())\n",
    "print(\"Fulfillment Columns:\",fulfillment.columns.tolist())\n",
    "print(\"Inventory Columns:\",inventory.columns.tolist())"
   ]
  },
  {
   "cell_type": "markdown",
   "id": "07d0cb23-fcb1-4dd7-b8fc-49fb1d8a78fd",
   "metadata": {},
   "source": [
    "### Check null values"
   ]
  },
  {
   "cell_type": "code",
   "execution_count": 8,
   "id": "9a0d90a1-62d2-4a9a-9abd-8d5a0fc69862",
   "metadata": {},
   "outputs": [
    {
     "data": {
      "text/plain": [
       "Order_ID_                      0\n",
       "_Order_Item_ID_                0\n",
       "_Order_YearMonth_              0\n",
       "_Order_Year_                   0\n",
       "_Order_Month_                  0\n",
       "_Order_Day_                    0\n",
       "Order_Time                     0\n",
       "Order_Quantity                 0\n",
       "Product_Department             0\n",
       "Product_Category               0\n",
       "Product_Name                   0\n",
       "_Customer_ID_                  0\n",
       "Customer_Market                0\n",
       "Customer_Region                0\n",
       "Customer_Country               0\n",
       "Warehouse_Country              0\n",
       "Shipment_Year                  0\n",
       "Shipment_Month                 0\n",
       "Shipment_Day                   0\n",
       "Shipment_Mode                  0\n",
       "_Shipment_Days_-_Scheduled_    0\n",
       "_Gross_Sales_                  0\n",
       "_Discount_%_                   0\n",
       "_Profit_                       0\n",
       "dtype: int64"
      ]
     },
     "execution_count": 8,
     "metadata": {},
     "output_type": "execute_result"
    }
   ],
   "source": [
    "orders.isnull().sum()\n"
   ]
  },
  {
   "cell_type": "code",
   "execution_count": 9,
   "id": "8cccc829-bffb-4459-9d74-1c608b5b52e1",
   "metadata": {},
   "outputs": [
    {
     "data": {
      "text/plain": [
       "Product_Name                            0\n",
       "_Warehouse_Order_Fulfillment_(days)_    0\n",
       "dtype: int64"
      ]
     },
     "execution_count": 9,
     "metadata": {},
     "output_type": "execute_result"
    }
   ],
   "source": [
    "fulfillment.isnull().sum()"
   ]
  },
  {
   "cell_type": "code",
   "execution_count": 10,
   "id": "cd752cad-b41b-410a-b076-fa1f4a5d197d",
   "metadata": {},
   "outputs": [
    {
     "data": {
      "text/plain": [
       "Product_Name               0\n",
       "_Year_Month_               0\n",
       "_Warehouse_Inventory_      0\n",
       "Inventory_Cost_Per_Unit    0\n",
       "dtype: int64"
      ]
     },
     "execution_count": 10,
     "metadata": {},
     "output_type": "execute_result"
    }
   ],
   "source": [
    "inventory.isnull().sum()"
   ]
  },
  {
   "cell_type": "markdown",
   "id": "9269df30-ff7a-4624-bc7a-afdc33d8e4a8",
   "metadata": {},
   "source": [
    "#### Check the Date Format"
   ]
  },
  {
   "cell_type": "code",
   "execution_count": 11,
   "id": "3ea76eca-b6b7-4d44-8d4b-cd7de5e85940",
   "metadata": {},
   "outputs": [
    {
     "name": "stdout",
     "output_type": "stream",
     "text": [
      "<class 'pandas.core.frame.DataFrame'>\n",
      "RangeIndex: 30871 entries, 0 to 30870\n",
      "Data columns (total 24 columns):\n",
      " #   Column                       Non-Null Count  Dtype \n",
      "---  ------                       --------------  ----- \n",
      " 0   Order_ID_                    30871 non-null  int64 \n",
      " 1   _Order_Item_ID_              30871 non-null  int64 \n",
      " 2   _Order_YearMonth_            30871 non-null  int64 \n",
      " 3   _Order_Year_                 30871 non-null  int64 \n",
      " 4   _Order_Month_                30871 non-null  int64 \n",
      " 5   _Order_Day_                  30871 non-null  int64 \n",
      " 6   Order_Time                   30871 non-null  object\n",
      " 7   Order_Quantity               30871 non-null  int64 \n",
      " 8   Product_Department           30871 non-null  object\n",
      " 9   Product_Category             30871 non-null  object\n",
      " 10  Product_Name                 30871 non-null  object\n",
      " 11  _Customer_ID_                30871 non-null  int64 \n",
      " 12  Customer_Market              30871 non-null  object\n",
      " 13  Customer_Region              30871 non-null  object\n",
      " 14  Customer_Country             30871 non-null  object\n",
      " 15  Warehouse_Country            30871 non-null  object\n",
      " 16  Shipment_Year                30871 non-null  int64 \n",
      " 17  Shipment_Month               30871 non-null  int64 \n",
      " 18  Shipment_Day                 30871 non-null  int64 \n",
      " 19  Shipment_Mode                30871 non-null  object\n",
      " 20  _Shipment_Days_-_Scheduled_  30871 non-null  int64 \n",
      " 21  _Gross_Sales_                30871 non-null  int64 \n",
      " 22  _Discount_%_                 30871 non-null  object\n",
      " 23  _Profit_                     30871 non-null  int64 \n",
      "dtypes: int64(14), object(10)\n",
      "memory usage: 5.7+ MB\n",
      "None\n",
      "<class 'pandas.core.frame.DataFrame'>\n",
      "RangeIndex: 118 entries, 0 to 117\n",
      "Data columns (total 2 columns):\n",
      " #   Column                                Non-Null Count  Dtype  \n",
      "---  ------                                --------------  -----  \n",
      " 0   Product_Name                          118 non-null    object \n",
      " 1   _Warehouse_Order_Fulfillment_(days)_  118 non-null    float64\n",
      "dtypes: float64(1), object(1)\n",
      "memory usage: 2.0+ KB\n",
      "None\n",
      "<class 'pandas.core.frame.DataFrame'>\n",
      "RangeIndex: 4200 entries, 0 to 4199\n",
      "Data columns (total 4 columns):\n",
      " #   Column                   Non-Null Count  Dtype  \n",
      "---  ------                   --------------  -----  \n",
      " 0   Product_Name             4200 non-null   object \n",
      " 1   _Year_Month_             4200 non-null   int64  \n",
      " 2   _Warehouse_Inventory_    4200 non-null   int64  \n",
      " 3   Inventory_Cost_Per_Unit  4200 non-null   float64\n",
      "dtypes: float64(1), int64(2), object(1)\n",
      "memory usage: 131.4+ KB\n",
      "None\n"
     ]
    }
   ],
   "source": [
    "\n",
    "print(orders.info())\n",
    "print(fulfillment.info())\n",
    "print(inventory.info())\n"
   ]
  },
  {
   "cell_type": "markdown",
   "id": "935d0e13-a16c-4b17-b826-4a70657fd74c",
   "metadata": {},
   "source": [
    "### Drop duplicate rows"
   ]
  },
  {
   "cell_type": "code",
   "execution_count": 12,
   "id": "5f22c51f-0544-42f6-b666-fc7e24e0aa20",
   "metadata": {},
   "outputs": [],
   "source": [
    "orders.drop_duplicates(inplace=True)\n",
    "fulfillment.drop_duplicates(inplace=True)\n",
    "inventory.drop_duplicates(inplace=True)"
   ]
  },
  {
   "cell_type": "code",
   "execution_count": 13,
   "id": "bb84094c-03b8-498a-a46a-9753b58f2a11",
   "metadata": {},
   "outputs": [
    {
     "data": {
      "text/plain": [
       "0"
      ]
     },
     "execution_count": 13,
     "metadata": {},
     "output_type": "execute_result"
    }
   ],
   "source": [
    "orders.duplicated().sum()"
   ]
  },
  {
   "cell_type": "markdown",
   "id": "3dc297dc-eebb-4955-a919-9e77262821c6",
   "metadata": {},
   "source": [
    "## Convert Date Columns to Datetime Format"
   ]
  },
  {
   "cell_type": "code",
   "execution_count": 14,
   "id": "450439c2-9e75-4112-8dcd-7de84dc3352f",
   "metadata": {},
   "outputs": [],
   "source": [
    "orders['_Order_Year_']=orders['_Order_Year_'].astype(str)\n",
    "orders['_Order_Month_']=orders['_Order_Month_'].astype(str)\n",
    "orders['__Order_Day_']=orders['_Order_Day_'].astype(str)"
   ]
  },
  {
   "cell_type": "markdown",
   "id": "d7ab9c63-c10b-47a7-8a60-e07c9c9ea1a6",
   "metadata": {},
   "source": [
    "### Combine columns into a single date column"
   ]
  },
  {
   "cell_type": "code",
   "execution_count": 15,
   "id": "e4b60732-8e0c-48b2-b870-491674992f3d",
   "metadata": {},
   "outputs": [],
   "source": [
    "orders['order_date']=pd.to_datetime(\n",
    "    orders['_Order_Year_'] + '-' + orders['_Order_Month_'] + '-' + orders['__Order_Day_'],\n",
    "    errors='coerce'\n",
    ")"
   ]
  },
  {
   "cell_type": "code",
   "execution_count": 16,
   "id": "8763ec71-debd-48a2-849d-b626386d741a",
   "metadata": {},
   "outputs": [
    {
     "data": {
      "text/plain": [
       "Order_ID_                      0\n",
       "_Order_Item_ID_                0\n",
       "_Order_YearMonth_              0\n",
       "_Order_Year_                   0\n",
       "_Order_Month_                  0\n",
       "_Order_Day_                    0\n",
       "Order_Time                     0\n",
       "Order_Quantity                 0\n",
       "Product_Department             0\n",
       "Product_Category               0\n",
       "Product_Name                   0\n",
       "_Customer_ID_                  0\n",
       "Customer_Market                0\n",
       "Customer_Region                0\n",
       "Customer_Country               0\n",
       "Warehouse_Country              0\n",
       "Shipment_Year                  0\n",
       "Shipment_Month                 0\n",
       "Shipment_Day                   0\n",
       "Shipment_Mode                  0\n",
       "_Shipment_Days_-_Scheduled_    0\n",
       "_Gross_Sales_                  0\n",
       "_Discount_%_                   0\n",
       "_Profit_                       0\n",
       "__Order_Day_                   0\n",
       "order_date                     0\n",
       "dtype: int64"
      ]
     },
     "execution_count": 16,
     "metadata": {},
     "output_type": "execute_result"
    }
   ],
   "source": [
    "orders.isnull().sum()"
   ]
  },
  {
   "cell_type": "code",
   "execution_count": 17,
   "id": "e293df50-c4f0-408f-adbc-6493d3780742",
   "metadata": {},
   "outputs": [
    {
     "name": "stdout",
     "output_type": "stream",
     "text": [
      "  order_date\n",
      "0 2015-02-21\n",
      "1 2015-03-02\n",
      "2 2015-04-18\n",
      "3 2015-06-10\n",
      "4 2015-06-10\n"
     ]
    }
   ],
   "source": [
    "print(orders[['order_date']].head())"
   ]
  },
  {
   "cell_type": "code",
   "execution_count": 35,
   "id": "1e4f07a0-e402-45c9-8533-501eb0752c67",
   "metadata": {},
   "outputs": [
    {
     "name": "stdout",
     "output_type": "stream",
     "text": [
      "<class 'pandas.core.frame.DataFrame'>\n",
      "RangeIndex: 30871 entries, 0 to 30870\n",
      "Data columns (total 26 columns):\n",
      " #   Column                       Non-Null Count  Dtype         \n",
      "---  ------                       --------------  -----         \n",
      " 0   Order_ID_                    30871 non-null  int64         \n",
      " 1   _Order_Item_ID_              30871 non-null  int64         \n",
      " 2   _Order_YearMonth_            30871 non-null  int64         \n",
      " 3   _Order_Year_                 30871 non-null  object        \n",
      " 4   _Order_Month_                30871 non-null  object        \n",
      " 5   _Order_Day_                  30871 non-null  int64         \n",
      " 6   Order_Time                   30871 non-null  object        \n",
      " 7   Order_Quantity               30871 non-null  int64         \n",
      " 8   Product_Department           30871 non-null  object        \n",
      " 9   Product_Category             30871 non-null  object        \n",
      " 10  Product_Name                 30871 non-null  object        \n",
      " 11  _Customer_ID_                30871 non-null  int64         \n",
      " 12  Customer_Market              30871 non-null  object        \n",
      " 13  Customer_Region              30871 non-null  object        \n",
      " 14  Customer_Country             30871 non-null  object        \n",
      " 15  Warehouse_Country            30871 non-null  object        \n",
      " 16  Shipment_Year                30871 non-null  int64         \n",
      " 17  Shipment_Month               30871 non-null  int64         \n",
      " 18  Shipment_Day                 30871 non-null  int64         \n",
      " 19  Shipment_Mode                30871 non-null  object        \n",
      " 20  _Shipment_Days_-_Scheduled_  30871 non-null  int64         \n",
      " 21  _Gross_Sales_                30871 non-null  int64         \n",
      " 22  _Discount_%_                 30871 non-null  object        \n",
      " 23  _Profit_                     30871 non-null  int64         \n",
      " 24  __Order_Day_                 30871 non-null  object        \n",
      " 25  order_date                   30871 non-null  datetime64[ns]\n",
      "dtypes: datetime64[ns](1), int64(12), object(13)\n",
      "memory usage: 6.1+ MB\n"
     ]
    }
   ],
   "source": [
    "orders.info()"
   ]
  },
  {
   "cell_type": "code",
   "execution_count": 18,
   "id": "3e77eeff-5834-4d46-89f9-66fdf2352b56",
   "metadata": {},
   "outputs": [
    {
     "data": {
      "text/plain": [
       "'C:\\\\Users\\\\USER\\\\Downloads'"
      ]
     },
     "execution_count": 18,
     "metadata": {},
     "output_type": "execute_result"
    }
   ],
   "source": [
    "orders_shipment_cleaned=orders.to_excel(\"orders_shipment_cleand.xlsx\",index=False)\n",
    "import os\n",
    "os.getcwd()"
   ]
  },
  {
   "cell_type": "markdown",
   "id": "7102131c-9af2-4003-a168-8537246776a6",
   "metadata": {},
   "source": [
    "## Exploratory Data Analysis"
   ]
  },
  {
   "cell_type": "code",
   "execution_count": 19,
   "id": "1be438e5-7bf4-4da4-891a-1916ba08fc29",
   "metadata": {},
   "outputs": [
    {
     "data": {
      "text/html": [
       "<div>\n",
       "<style scoped>\n",
       "    .dataframe tbody tr th:only-of-type {\n",
       "        vertical-align: middle;\n",
       "    }\n",
       "\n",
       "    .dataframe tbody tr th {\n",
       "        vertical-align: top;\n",
       "    }\n",
       "\n",
       "    .dataframe thead th {\n",
       "        text-align: right;\n",
       "    }\n",
       "</style>\n",
       "<table border=\"1\" class=\"dataframe\">\n",
       "  <thead>\n",
       "    <tr style=\"text-align: right;\">\n",
       "      <th></th>\n",
       "      <th>Order_ID_</th>\n",
       "      <th>_Order_Item_ID_</th>\n",
       "      <th>_Order_YearMonth_</th>\n",
       "      <th>_Order_Day_</th>\n",
       "      <th>Order_Quantity</th>\n",
       "      <th>_Customer_ID_</th>\n",
       "      <th>Shipment_Year</th>\n",
       "      <th>Shipment_Month</th>\n",
       "      <th>Shipment_Day</th>\n",
       "      <th>_Shipment_Days_-_Scheduled_</th>\n",
       "      <th>_Gross_Sales_</th>\n",
       "      <th>_Profit_</th>\n",
       "      <th>order_date</th>\n",
       "    </tr>\n",
       "  </thead>\n",
       "  <tbody>\n",
       "    <tr>\n",
       "      <th>count</th>\n",
       "      <td>30871.000000</td>\n",
       "      <td>30871.000000</td>\n",
       "      <td>30871.000000</td>\n",
       "      <td>30871.000000</td>\n",
       "      <td>30871.000000</td>\n",
       "      <td>30871.000000</td>\n",
       "      <td>30871.000000</td>\n",
       "      <td>30871.000000</td>\n",
       "      <td>30871.000000</td>\n",
       "      <td>30871.000000</td>\n",
       "      <td>30871.000000</td>\n",
       "      <td>30871.000000</td>\n",
       "      <td>30871</td>\n",
       "    </tr>\n",
       "    <tr>\n",
       "      <th>mean</th>\n",
       "      <td>35818.833792</td>\n",
       "      <td>89380.257361</td>\n",
       "      <td>201601.137411</td>\n",
       "      <td>15.735026</td>\n",
       "      <td>2.149817</td>\n",
       "      <td>6477.672152</td>\n",
       "      <td>2015.955427</td>\n",
       "      <td>6.299569</td>\n",
       "      <td>15.978005</td>\n",
       "      <td>3.072495</td>\n",
       "      <td>200.235690</td>\n",
       "      <td>129.383305</td>\n",
       "      <td>2016-06-05 03:06:32.173884672</td>\n",
       "    </tr>\n",
       "    <tr>\n",
       "      <th>min</th>\n",
       "      <td>11.000000</td>\n",
       "      <td>29.000000</td>\n",
       "      <td>201501.000000</td>\n",
       "      <td>1.000000</td>\n",
       "      <td>1.000000</td>\n",
       "      <td>2.000000</td>\n",
       "      <td>2015.000000</td>\n",
       "      <td>1.000000</td>\n",
       "      <td>1.000000</td>\n",
       "      <td>1.000000</td>\n",
       "      <td>10.000000</td>\n",
       "      <td>6.000000</td>\n",
       "      <td>2015-01-01 00:00:00</td>\n",
       "    </tr>\n",
       "    <tr>\n",
       "      <th>25%</th>\n",
       "      <td>17905.000000</td>\n",
       "      <td>44721.500000</td>\n",
       "      <td>201509.000000</td>\n",
       "      <td>9.000000</td>\n",
       "      <td>1.000000</td>\n",
       "      <td>3177.000000</td>\n",
       "      <td>2015.000000</td>\n",
       "      <td>3.000000</td>\n",
       "      <td>9.000000</td>\n",
       "      <td>2.000000</td>\n",
       "      <td>120.000000</td>\n",
       "      <td>97.000000</td>\n",
       "      <td>2015-09-18 00:00:00</td>\n",
       "    </tr>\n",
       "    <tr>\n",
       "      <th>50%</th>\n",
       "      <td>35886.000000</td>\n",
       "      <td>89624.000000</td>\n",
       "      <td>201606.000000</td>\n",
       "      <td>16.000000</td>\n",
       "      <td>1.000000</td>\n",
       "      <td>6355.000000</td>\n",
       "      <td>2016.000000</td>\n",
       "      <td>6.000000</td>\n",
       "      <td>16.000000</td>\n",
       "      <td>4.000000</td>\n",
       "      <td>200.000000</td>\n",
       "      <td>125.000000</td>\n",
       "      <td>2016-06-07 00:00:00</td>\n",
       "    </tr>\n",
       "    <tr>\n",
       "      <th>75%</th>\n",
       "      <td>53507.000000</td>\n",
       "      <td>133710.500000</td>\n",
       "      <td>201702.000000</td>\n",
       "      <td>23.000000</td>\n",
       "      <td>3.000000</td>\n",
       "      <td>9577.000000</td>\n",
       "      <td>2017.000000</td>\n",
       "      <td>9.000000</td>\n",
       "      <td>23.000000</td>\n",
       "      <td>4.000000</td>\n",
       "      <td>300.000000</td>\n",
       "      <td>150.000000</td>\n",
       "      <td>2017-02-20 00:00:00</td>\n",
       "    </tr>\n",
       "    <tr>\n",
       "      <th>max</th>\n",
       "      <td>77095.000000</td>\n",
       "      <td>180410.000000</td>\n",
       "      <td>201712.000000</td>\n",
       "      <td>31.000000</td>\n",
       "      <td>5.000000</td>\n",
       "      <td>20648.000000</td>\n",
       "      <td>2017.000000</td>\n",
       "      <td>12.000000</td>\n",
       "      <td>31.000000</td>\n",
       "      <td>4.000000</td>\n",
       "      <td>533.000000</td>\n",
       "      <td>258.000000</td>\n",
       "      <td>2017-12-31 00:00:00</td>\n",
       "    </tr>\n",
       "    <tr>\n",
       "      <th>std</th>\n",
       "      <td>20623.809444</td>\n",
       "      <td>51279.388574</td>\n",
       "      <td>79.438616</td>\n",
       "      <td>8.484049</td>\n",
       "      <td>1.461393</td>\n",
       "      <td>3932.830830</td>\n",
       "      <td>0.798863</td>\n",
       "      <td>3.360191</td>\n",
       "      <td>8.582789</td>\n",
       "      <td>1.184417</td>\n",
       "      <td>114.251482</td>\n",
       "      <td>52.649857</td>\n",
       "      <td>NaN</td>\n",
       "    </tr>\n",
       "  </tbody>\n",
       "</table>\n",
       "</div>"
      ],
      "text/plain": [
       "          Order_ID_  _Order_Item_ID_  _Order_YearMonth_   _Order_Day_  \\\n",
       "count  30871.000000     30871.000000       30871.000000  30871.000000   \n",
       "mean   35818.833792     89380.257361      201601.137411     15.735026   \n",
       "min       11.000000        29.000000      201501.000000      1.000000   \n",
       "25%    17905.000000     44721.500000      201509.000000      9.000000   \n",
       "50%    35886.000000     89624.000000      201606.000000     16.000000   \n",
       "75%    53507.000000    133710.500000      201702.000000     23.000000   \n",
       "max    77095.000000    180410.000000      201712.000000     31.000000   \n",
       "std    20623.809444     51279.388574          79.438616      8.484049   \n",
       "\n",
       "       Order_Quantity  _Customer_ID_  Shipment_Year  Shipment_Month  \\\n",
       "count    30871.000000   30871.000000   30871.000000    30871.000000   \n",
       "mean         2.149817    6477.672152    2015.955427        6.299569   \n",
       "min          1.000000       2.000000    2015.000000        1.000000   \n",
       "25%          1.000000    3177.000000    2015.000000        3.000000   \n",
       "50%          1.000000    6355.000000    2016.000000        6.000000   \n",
       "75%          3.000000    9577.000000    2017.000000        9.000000   \n",
       "max          5.000000   20648.000000    2017.000000       12.000000   \n",
       "std          1.461393    3932.830830       0.798863        3.360191   \n",
       "\n",
       "       Shipment_Day  _Shipment_Days_-_Scheduled_  _Gross_Sales_      _Profit_  \\\n",
       "count  30871.000000                 30871.000000   30871.000000  30871.000000   \n",
       "mean      15.978005                     3.072495     200.235690    129.383305   \n",
       "min        1.000000                     1.000000      10.000000      6.000000   \n",
       "25%        9.000000                     2.000000     120.000000     97.000000   \n",
       "50%       16.000000                     4.000000     200.000000    125.000000   \n",
       "75%       23.000000                     4.000000     300.000000    150.000000   \n",
       "max       31.000000                     4.000000     533.000000    258.000000   \n",
       "std        8.582789                     1.184417     114.251482     52.649857   \n",
       "\n",
       "                          order_date  \n",
       "count                          30871  \n",
       "mean   2016-06-05 03:06:32.173884672  \n",
       "min              2015-01-01 00:00:00  \n",
       "25%              2015-09-18 00:00:00  \n",
       "50%              2016-06-07 00:00:00  \n",
       "75%              2017-02-20 00:00:00  \n",
       "max              2017-12-31 00:00:00  \n",
       "std                              NaN  "
      ]
     },
     "execution_count": 19,
     "metadata": {},
     "output_type": "execute_result"
    }
   ],
   "source": [
    "orders.describe()"
   ]
  },
  {
   "cell_type": "code",
   "execution_count": 20,
   "id": "e49c59e6-0276-4942-867f-4c4f02868623",
   "metadata": {},
   "outputs": [
    {
     "data": {
      "text/html": [
       "<div>\n",
       "<style scoped>\n",
       "    .dataframe tbody tr th:only-of-type {\n",
       "        vertical-align: middle;\n",
       "    }\n",
       "\n",
       "    .dataframe tbody tr th {\n",
       "        vertical-align: top;\n",
       "    }\n",
       "\n",
       "    .dataframe thead th {\n",
       "        text-align: right;\n",
       "    }\n",
       "</style>\n",
       "<table border=\"1\" class=\"dataframe\">\n",
       "  <thead>\n",
       "    <tr style=\"text-align: right;\">\n",
       "      <th></th>\n",
       "      <th>_Warehouse_Order_Fulfillment_(days)_</th>\n",
       "    </tr>\n",
       "  </thead>\n",
       "  <tbody>\n",
       "    <tr>\n",
       "      <th>count</th>\n",
       "      <td>118.000000</td>\n",
       "    </tr>\n",
       "    <tr>\n",
       "      <th>mean</th>\n",
       "      <td>5.333898</td>\n",
       "    </tr>\n",
       "    <tr>\n",
       "      <th>std</th>\n",
       "      <td>2.414282</td>\n",
       "    </tr>\n",
       "    <tr>\n",
       "      <th>min</th>\n",
       "      <td>1.000000</td>\n",
       "    </tr>\n",
       "    <tr>\n",
       "      <th>25%</th>\n",
       "      <td>3.300000</td>\n",
       "    </tr>\n",
       "    <tr>\n",
       "      <th>50%</th>\n",
       "      <td>5.300000</td>\n",
       "    </tr>\n",
       "    <tr>\n",
       "      <th>75%</th>\n",
       "      <td>6.975000</td>\n",
       "    </tr>\n",
       "    <tr>\n",
       "      <th>max</th>\n",
       "      <td>9.900000</td>\n",
       "    </tr>\n",
       "  </tbody>\n",
       "</table>\n",
       "</div>"
      ],
      "text/plain": [
       "       _Warehouse_Order_Fulfillment_(days)_\n",
       "count                            118.000000\n",
       "mean                               5.333898\n",
       "std                                2.414282\n",
       "min                                1.000000\n",
       "25%                                3.300000\n",
       "50%                                5.300000\n",
       "75%                                6.975000\n",
       "max                                9.900000"
      ]
     },
     "execution_count": 20,
     "metadata": {},
     "output_type": "execute_result"
    }
   ],
   "source": [
    "fulfillment.describe()"
   ]
  },
  {
   "cell_type": "code",
   "execution_count": 21,
   "id": "fc0ce1ee-409c-453f-baca-b1f61bb7fef7",
   "metadata": {},
   "outputs": [
    {
     "data": {
      "text/html": [
       "<div>\n",
       "<style scoped>\n",
       "    .dataframe tbody tr th:only-of-type {\n",
       "        vertical-align: middle;\n",
       "    }\n",
       "\n",
       "    .dataframe tbody tr th {\n",
       "        vertical-align: top;\n",
       "    }\n",
       "\n",
       "    .dataframe thead th {\n",
       "        text-align: right;\n",
       "    }\n",
       "</style>\n",
       "<table border=\"1\" class=\"dataframe\">\n",
       "  <thead>\n",
       "    <tr style=\"text-align: right;\">\n",
       "      <th></th>\n",
       "      <th>_Year_Month_</th>\n",
       "      <th>_Warehouse_Inventory_</th>\n",
       "      <th>Inventory_Cost_Per_Unit</th>\n",
       "    </tr>\n",
       "  </thead>\n",
       "  <tbody>\n",
       "    <tr>\n",
       "      <th>count</th>\n",
       "      <td>4200.000000</td>\n",
       "      <td>4200.000000</td>\n",
       "      <td>4200.000000</td>\n",
       "    </tr>\n",
       "    <tr>\n",
       "      <th>mean</th>\n",
       "      <td>201607.705714</td>\n",
       "      <td>16.908095</td>\n",
       "      <td>1.236450</td>\n",
       "    </tr>\n",
       "    <tr>\n",
       "      <th>std</th>\n",
       "      <td>81.411495</td>\n",
       "      <td>71.121721</td>\n",
       "      <td>0.652183</td>\n",
       "    </tr>\n",
       "    <tr>\n",
       "      <th>min</th>\n",
       "      <td>201501.000000</td>\n",
       "      <td>0.000000</td>\n",
       "      <td>0.102360</td>\n",
       "    </tr>\n",
       "    <tr>\n",
       "      <th>25%</th>\n",
       "      <td>201510.000000</td>\n",
       "      <td>0.000000</td>\n",
       "      <td>0.672187</td>\n",
       "    </tr>\n",
       "    <tr>\n",
       "      <th>50%</th>\n",
       "      <td>201607.000000</td>\n",
       "      <td>0.000000</td>\n",
       "      <td>1.262455</td>\n",
       "    </tr>\n",
       "    <tr>\n",
       "      <th>75%</th>\n",
       "      <td>201704.000000</td>\n",
       "      <td>4.000000</td>\n",
       "      <td>1.800760</td>\n",
       "    </tr>\n",
       "    <tr>\n",
       "      <th>max</th>\n",
       "      <td>201712.000000</td>\n",
       "      <td>931.000000</td>\n",
       "      <td>2.345030</td>\n",
       "    </tr>\n",
       "  </tbody>\n",
       "</table>\n",
       "</div>"
      ],
      "text/plain": [
       "        _Year_Month_  _Warehouse_Inventory_  Inventory_Cost_Per_Unit\n",
       "count    4200.000000            4200.000000              4200.000000\n",
       "mean   201607.705714              16.908095                 1.236450\n",
       "std        81.411495              71.121721                 0.652183\n",
       "min    201501.000000               0.000000                 0.102360\n",
       "25%    201510.000000               0.000000                 0.672187\n",
       "50%    201607.000000               0.000000                 1.262455\n",
       "75%    201704.000000               4.000000                 1.800760\n",
       "max    201712.000000             931.000000                 2.345030"
      ]
     },
     "execution_count": 21,
     "metadata": {},
     "output_type": "execute_result"
    }
   ],
   "source": [
    "inventory.describe()"
   ]
  },
  {
   "cell_type": "markdown",
   "id": "8055a806-0ec9-4d3e-b5c4-91cb9dfb846b",
   "metadata": {},
   "source": [
    "### Orders Analysis"
   ]
  },
  {
   "cell_type": "markdown",
   "id": "72f28579-8b01-4f6f-81f3-2444fe6c3498",
   "metadata": {},
   "source": [
    "#### Total Orders Over Time"
   ]
  },
  {
   "cell_type": "markdown",
   "id": "f7841102-74ba-4a7a-bdba-273963a399a2",
   "metadata": {},
   "source": [
    "##### count orders per month"
   ]
  },
  {
   "cell_type": "code",
   "execution_count": 22,
   "id": "dcb017e9-324b-4d29-984b-1db38bc81b4b",
   "metadata": {},
   "outputs": [
    {
     "data": {
      "text/plain": [
       "order_date\n",
       "2015-01     982\n",
       "2015-02     865\n",
       "2015-03     929\n",
       "2015-04     942\n",
       "2015-05     816\n",
       "2015-06     871\n",
       "2015-07     881\n",
       "2015-08     878\n",
       "2015-09     848\n",
       "2015-10     886\n",
       "2015-11     854\n",
       "2015-12     869\n",
       "2016-01     974\n",
       "2016-02     820\n",
       "2016-03     870\n",
       "2016-04     901\n",
       "2016-05     965\n",
       "2016-06     866\n",
       "2016-07     984\n",
       "2016-08    1034\n",
       "2016-09     894\n",
       "2016-10    1027\n",
       "2016-11     962\n",
       "2016-12     917\n",
       "2017-01     841\n",
       "2017-02     910\n",
       "2017-03     896\n",
       "2017-04     874\n",
       "2017-05     895\n",
       "2017-06     873\n",
       "2017-07     907\n",
       "2017-08     871\n",
       "2017-09     935\n",
       "2017-10     363\n",
       "2017-11     348\n",
       "2017-12     323\n",
       "Freq: M, Name: Order_ID_, dtype: int64"
      ]
     },
     "execution_count": 22,
     "metadata": {},
     "output_type": "execute_result"
    }
   ],
   "source": [
    "orders_by_month=orders.groupby(orders['order_date'].dt.to_period('M'))['Order_ID_'].count()\n",
    "orders_by_month"
   ]
  },
  {
   "cell_type": "markdown",
   "id": "08fdb104-b388-4653-b617-441a762e7170",
   "metadata": {},
   "source": [
    "#### Plot Orders Over Time"
   ]
  },
  {
   "cell_type": "code",
   "execution_count": 23,
   "id": "54fd48cb-1512-4a1c-aa1d-3d665eb74d3a",
   "metadata": {},
   "outputs": [
    {
     "data": {
      "image/png": "[encoded data removed]",
      "text/plain": [
       "<Figure size 1000x500 with 1 Axes>"
      ]
     },
     "metadata": {},
     "output_type": "display_data"
    }
   ],
   "source": [
    "plt.figure(figsize=(10,5))\n",
    "orders_by_month.plot(kind='line',marker='o',color='blue')\n",
    "plt.title(\"Monthly Order Trends\")\n",
    "plt.xlabel('Month')\n",
    "plt.ylabel('Total Orders')\n",
    "plt.show()"
   ]
  },
  {
   "cell_type": "markdown",
   "id": "4eb0a839-fb7c-40b3-aa57-dbd24c324afa",
   "metadata": {},
   "source": [
    "## Best-Selling Products"
   ]
  },
  {
   "cell_type": "code",
   "execution_count": 24,
   "id": "2c5a0e28-1b56-46f4-85be-bcd8cbf9d9d3",
   "metadata": {},
   "outputs": [
    {
     "data": {
      "text/plain": [
       "Product_Name\n",
       "Perfect Fitness Perfect Rip Deck                 12952\n",
       "Nike Men's Dri-FIT Victory Golf Polo             10886\n",
       "O'Brien Men's Neoprene Life Vest                 10164\n",
       "Nike Men's Free 5.0+ Running Shoe                 6455\n",
       "Under Armour Girls' Toddler Spine Surge Runni     5689\n",
       "Nike Men's CJ Elite 2 TD Football Cleat           3855\n",
       "Field & Stream Sportsman 16 Gun Fire Safe         2878\n",
       "Pelican Sunstream 100 Kayak                       2681\n",
       "Diamondback Women's Serene Classic Comfort Bi     2427\n",
       "Team Golf Pittsburgh Steelers Putter Grip          194\n",
       "Name: Order_Quantity, dtype: int64"
      ]
     },
     "execution_count": 24,
     "metadata": {},
     "output_type": "execute_result"
    }
   ],
   "source": [
    "top_products=orders.groupby('Product_Name')['Order_Quantity'].sum().sort_values(ascending=False).head(10)\n",
    "top_products"
   ]
  },
  {
   "cell_type": "code",
   "execution_count": 29,
   "id": "1f065409-8362-44ec-bc13-d6dd84e81b2a",
   "metadata": {},
   "outputs": [
    {
     "data": {
      "image/png": "[encoded data removed]",
      "text/plain": [
       "<Figure size 1000x800 with 1 Axes>"
      ]
     },
     "metadata": {},
     "output_type": "display_data"
    }
   ],
   "source": [
    "plt.figure(figsize=(10,8))\n",
    "top_products.plot(kind='bar',color='black')\n",
    "plt.title(\"Top 10 Best-Selling Products\")\n",
    "plt.xlabel('Product')\n",
    "plt.ylabel('Total Quantity Ordered')\n",
    "plt.show()"
   ]
  },
  {
   "cell_type": "markdown",
   "id": "ef17a1a2-961c-4f6b-9b66-1da6c66b7202",
   "metadata": {},
   "source": [
    "## Inventory Analysis"
   ]
  },
  {
   "cell_type": "markdown",
   "id": "4423f348-07af-4ef6-979b-bfcee33465a6",
   "metadata": {},
   "source": [
    "### Stock Levels by Product"
   ]
  },
  {
   "cell_type": "code",
   "execution_count": 25,
   "id": "1ea0711b-17b4-4296-bfca-c29e7798cef5",
   "metadata": {},
   "outputs": [
    {
     "data": {
      "text/html": [
       "<div>\n",
       "<style scoped>\n",
       "    .dataframe tbody tr th:only-of-type {\n",
       "        vertical-align: middle;\n",
       "    }\n",
       "\n",
       "    .dataframe tbody tr th {\n",
       "        vertical-align: top;\n",
       "    }\n",
       "\n",
       "    .dataframe thead th {\n",
       "        text-align: right;\n",
       "    }\n",
       "</style>\n",
       "<table border=\"1\" class=\"dataframe\">\n",
       "  <thead>\n",
       "    <tr style=\"text-align: right;\">\n",
       "      <th></th>\n",
       "      <th>Product_Name</th>\n",
       "      <th>_Year_Month_</th>\n",
       "      <th>_Warehouse_Inventory_</th>\n",
       "      <th>Inventory_Cost_Per_Unit</th>\n",
       "    </tr>\n",
       "  </thead>\n",
       "  <tbody>\n",
       "    <tr>\n",
       "      <th>0</th>\n",
       "      <td>Perfect Fitness Perfect Rip Deck</td>\n",
       "      <td>201712</td>\n",
       "      <td>0</td>\n",
       "      <td>0.69517</td>\n",
       "    </tr>\n",
       "    <tr>\n",
       "      <th>1</th>\n",
       "      <td>Nike Men's Dri-FIT Victory Golf Polo</td>\n",
       "      <td>201712</td>\n",
       "      <td>2</td>\n",
       "      <td>1.29291</td>\n",
       "    </tr>\n",
       "    <tr>\n",
       "      <th>2</th>\n",
       "      <td>O'Brien Men's Neoprene Life Vest</td>\n",
       "      <td>201712</td>\n",
       "      <td>0</td>\n",
       "      <td>0.56531</td>\n",
       "    </tr>\n",
       "    <tr>\n",
       "      <th>3</th>\n",
       "      <td>Nike Men's Free 5.0+ Running Shoe</td>\n",
       "      <td>201712</td>\n",
       "      <td>1</td>\n",
       "      <td>1.26321</td>\n",
       "    </tr>\n",
       "    <tr>\n",
       "      <th>4</th>\n",
       "      <td>Under Armour Girls' Toddler Spine Surge Runni</td>\n",
       "      <td>201712</td>\n",
       "      <td>0</td>\n",
       "      <td>1.47648</td>\n",
       "    </tr>\n",
       "  </tbody>\n",
       "</table>\n",
       "</div>"
      ],
      "text/plain": [
       "                                    Product_Name  _Year_Month_  \\\n",
       "0               Perfect Fitness Perfect Rip Deck        201712   \n",
       "1           Nike Men's Dri-FIT Victory Golf Polo        201712   \n",
       "2               O'Brien Men's Neoprene Life Vest        201712   \n",
       "3              Nike Men's Free 5.0+ Running Shoe        201712   \n",
       "4  Under Armour Girls' Toddler Spine Surge Runni        201712   \n",
       "\n",
       "   _Warehouse_Inventory_  Inventory_Cost_Per_Unit  \n",
       "0                      0                  0.69517  \n",
       "1                      2                  1.29291  \n",
       "2                      0                  0.56531  \n",
       "3                      1                  1.26321  \n",
       "4                      0                  1.47648  "
      ]
     },
     "execution_count": 25,
     "metadata": {},
     "output_type": "execute_result"
    }
   ],
   "source": [
    "inventory.head()"
   ]
  },
  {
   "cell_type": "code",
   "execution_count": 26,
   "id": "66698d31-6d7b-4ff2-9376-8efc3c3f7e33",
   "metadata": {},
   "outputs": [
    {
     "data": {
      "text/plain": [
       "Product_Name\n",
       "Perfect Fitness Perfect Rip Deck                 14481\n",
       "Nike Men's Dri-FIT Victory Golf Polo             10706\n",
       "O'Brien Men's Neoprene Life Vest                  9617\n",
       "Nike Men's Free 5.0+ Running Shoe                 6510\n",
       "Under Armour Girls' Toddler Spine Surge Runni     6177\n",
       "Nike Men's CJ Elite 2 TD Football Cleat           4119\n",
       "Field & Stream Sportsman 16 Gun Fire Safe         2630\n",
       "Diamondback Women's Serene Classic Comfort Bi     2458\n",
       "Pelican Sunstream 100 Kayak                       2352\n",
       "Bowflex SelectTech 1090 Dumbbells                  811\n",
       "Name: _Warehouse_Inventory_, dtype: int64"
      ]
     },
     "execution_count": 26,
     "metadata": {},
     "output_type": "execute_result"
    }
   ],
   "source": [
    "top_stock=inventory.groupby('Product_Name')['_Warehouse_Inventory_'].sum().sort_values(ascending=False).head(10)\n",
    "top_stock"
   ]
  },
  {
   "cell_type": "code",
   "execution_count": 32,
   "id": "e871eb2f-f6c7-41bf-bd05-354028eb0dfa",
   "metadata": {},
   "outputs": [
    {
     "data": {
      "image/png": "[encoded data removed]",
      "text/plain": [
       "<Figure size 1000x800 with 1 Axes>"
      ]
     },
     "metadata": {},
     "output_type": "display_data"
    }
   ],
   "source": [
    "plt.figure(figsize=(10,8))\n",
    "top_products.plot(kind='bar',color='blue')\n",
    "plt.title(\"Top 10 Products by WArehouse Inventory\")\n",
    "plt.xlabel('Product')\n",
    "plt.ylabel('Total Inventory Levels')\n",
    "plt.show()"
   ]
  },
  {
   "cell_type": "markdown",
   "id": "ae104f48-c049-439c-af57-6d0e12184049",
   "metadata": {},
   "source": [
    "## Fulfillment Analysis"
   ]
  },
  {
   "cell_type": "markdown",
   "id": "eb55c568-ba02-4a8d-b3ae-0f02d72a3933",
   "metadata": {},
   "source": [
    "### Check Distribution of fulfillment Time"
   ]
  },
  {
   "cell_type": "code",
   "execution_count": 27,
   "id": "3b939e6e-662e-4246-b730-4ae5a0e1e9f8",
   "metadata": {},
   "outputs": [
    {
     "data": {
      "text/html": [
       "<div>\n",
       "<style scoped>\n",
       "    .dataframe tbody tr th:only-of-type {\n",
       "        vertical-align: middle;\n",
       "    }\n",
       "\n",
       "    .dataframe tbody tr th {\n",
       "        vertical-align: top;\n",
       "    }\n",
       "\n",
       "    .dataframe thead th {\n",
       "        text-align: right;\n",
       "    }\n",
       "</style>\n",
       "<table border=\"1\" class=\"dataframe\">\n",
       "  <thead>\n",
       "    <tr style=\"text-align: right;\">\n",
       "      <th></th>\n",
       "      <th>Product_Name</th>\n",
       "      <th>_Warehouse_Order_Fulfillment_(days)_</th>\n",
       "    </tr>\n",
       "  </thead>\n",
       "  <tbody>\n",
       "    <tr>\n",
       "      <th>0</th>\n",
       "      <td>Perfect Fitness Perfect Rip Deck</td>\n",
       "      <td>8.3</td>\n",
       "    </tr>\n",
       "    <tr>\n",
       "      <th>1</th>\n",
       "      <td>Nike Men's Dri-FIT Victory Golf Polo</td>\n",
       "      <td>6.6</td>\n",
       "    </tr>\n",
       "    <tr>\n",
       "      <th>2</th>\n",
       "      <td>O'Brien Men's Neoprene Life Vest</td>\n",
       "      <td>5.5</td>\n",
       "    </tr>\n",
       "    <tr>\n",
       "      <th>3</th>\n",
       "      <td>Nike Men's Free 5.0+ Running Shoe</td>\n",
       "      <td>9.4</td>\n",
       "    </tr>\n",
       "    <tr>\n",
       "      <th>4</th>\n",
       "      <td>Under Armour Girls' Toddler Spine Surge Runni</td>\n",
       "      <td>6.3</td>\n",
       "    </tr>\n",
       "  </tbody>\n",
       "</table>\n",
       "</div>"
      ],
      "text/plain": [
       "                                    Product_Name  \\\n",
       "0               Perfect Fitness Perfect Rip Deck   \n",
       "1           Nike Men's Dri-FIT Victory Golf Polo   \n",
       "2               O'Brien Men's Neoprene Life Vest   \n",
       "3              Nike Men's Free 5.0+ Running Shoe   \n",
       "4  Under Armour Girls' Toddler Spine Surge Runni   \n",
       "\n",
       "   _Warehouse_Order_Fulfillment_(days)_  \n",
       "0                                   8.3  \n",
       "1                                   6.6  \n",
       "2                                   5.5  \n",
       "3                                   9.4  \n",
       "4                                   6.3  "
      ]
     },
     "execution_count": 27,
     "metadata": {},
     "output_type": "execute_result"
    }
   ],
   "source": [
    "fulfillment.head()"
   ]
  },
  {
   "cell_type": "code",
   "execution_count": 28,
   "id": "6fa477f4-11f2-4748-8f77-a3d38d796589",
   "metadata": {},
   "outputs": [
    {
     "data": {
      "image/png": "[encoded data removed]",
      "text/plain": [
       "<Figure size 1000x500 with 1 Axes>"
      ]
     },
     "metadata": {},
     "output_type": "display_data"
    }
   ],
   "source": [
    "plt.figure(figsize=(10,5))\n",
    "sns.histplot(fulfillment['_Warehouse_Order_Fulfillment_(days)_'],bins=20,kde=True,color='blue')\n",
    "plt.title(\"Disteibution of Order Fulfillment Time\")\n",
    "plt.xlabel('Fulfillment Time (Days)')\n",
    "plt.ylabel('Frequency')\n",
    "plt.show()"
   ]
  },
  {
   "cell_type": "markdown",
   "id": "4e22229d-7959-43f1-9338-d4572c9292b9",
   "metadata": {},
   "source": [
    "## Machine Learning"
   ]
  },
  {
   "cell_type": "code",
   "execution_count": 53,
   "id": "fca9d891-04c2-48a4-8ac1-b1c6a86e7636",
   "metadata": {},
   "outputs": [],
   "source": [
    "from sklearn.metrics import mean_squared_error\n",
    "\n",
    "from sklearn.svm import SVR\n",
    "from sklearn.linear_model import LinearRegression\n",
    "from sklearn.tree import DecisionTreeRegressor\n",
    "from sklearn.ensemble import RandomForestRegressor\n",
    "from sklearn.metrics import classification_report,confusion_matrix,accuracy_score"
   ]
  },
  {
   "cell_type": "code",
   "execution_count": 30,
   "id": "6def81d6-4434-4dab-90c3-68107f194016",
   "metadata": {},
   "outputs": [
    {
     "data": {
      "text/plain": [
       "Index(['Order_ID_', '_Order_Item_ID_', '_Order_YearMonth_', '_Order_Year_',\n",
       "       '_Order_Month_', '_Order_Day_', 'Order_Time', 'Order_Quantity',\n",
       "       'Product_Department', 'Product_Category', 'Product_Name',\n",
       "       '_Customer_ID_', 'Customer_Market', 'Customer_Region',\n",
       "       'Customer_Country', 'Warehouse_Country', 'Shipment_Year',\n",
       "       'Shipment_Month', 'Shipment_Day', 'Shipment_Mode',\n",
       "       '_Shipment_Days_-_Scheduled_', '_Gross_Sales_', '_Discount_%_',\n",
       "       '_Profit_', '__Order_Day_', 'order_date'],\n",
       "      dtype='object')"
      ]
     },
     "execution_count": 30,
     "metadata": {},
     "output_type": "execute_result"
    }
   ],
   "source": [
    "orders.columns"
   ]
  },
  {
   "cell_type": "markdown",
   "id": "34067b3e-43a0-45de-8ee5-f85646bddf0f",
   "metadata": {},
   "source": [
    "#####  replace invalid values with nan,then drop them"
   ]
  },
  {
   "cell_type": "code",
   "execution_count": null,
   "id": "3ebd2bdb-e375-4dbf-bf7b-457888ab37b4",
   "metadata": {},
   "outputs": [],
   "source": []
  },
  {
   "cell_type": "code",
   "execution_count": 31,
   "id": "178627cd-da73-4502-9e27-73ed85bc0a2b",
   "metadata": {},
   "outputs": [],
   "source": [
    "orders['_Discount_%_']=pd.to_numeric(orders['_Discount_%_'],errors='coerce')\n",
    "orders=orders.dropna(subset=['_Discount_%_'])"
   ]
  },
  {
   "cell_type": "code",
   "execution_count": 32,
   "id": "f4a79b0e-caa6-4bb2-b9ae-7dd630a5fe8c",
   "metadata": {},
   "outputs": [
    {
     "name": "stdout",
     "output_type": "stream",
     "text": [
      "<class 'pandas.core.frame.DataFrame'>\n",
      "Index: 29122 entries, 0 to 30869\n",
      "Data columns (total 26 columns):\n",
      " #   Column                       Non-Null Count  Dtype         \n",
      "---  ------                       --------------  -----         \n",
      " 0   Order_ID_                    29122 non-null  int64         \n",
      " 1   _Order_Item_ID_              29122 non-null  int64         \n",
      " 2   _Order_YearMonth_            29122 non-null  int64         \n",
      " 3   _Order_Year_                 29122 non-null  object        \n",
      " 4   _Order_Month_                29122 non-null  object        \n",
      " 5   _Order_Day_                  29122 non-null  int64         \n",
      " 6   Order_Time                   29122 non-null  object        \n",
      " 7   Order_Quantity               29122 non-null  int64         \n",
      " 8   Product_Department           29122 non-null  object        \n",
      " 9   Product_Category             29122 non-null  object        \n",
      " 10  Product_Name                 29122 non-null  object        \n",
      " 11  _Customer_ID_                29122 non-null  int64         \n",
      " 12  Customer_Market              29122 non-null  object        \n",
      " 13  Customer_Region              29122 non-null  object        \n",
      " 14  Customer_Country             29122 non-null  object        \n",
      " 15  Warehouse_Country            29122 non-null  object        \n",
      " 16  Shipment_Year                29122 non-null  int64         \n",
      " 17  Shipment_Month               29122 non-null  int64         \n",
      " 18  Shipment_Day                 29122 non-null  int64         \n",
      " 19  Shipment_Mode                29122 non-null  object        \n",
      " 20  _Shipment_Days_-_Scheduled_  29122 non-null  int64         \n",
      " 21  _Gross_Sales_                29122 non-null  int64         \n",
      " 22  _Discount_%_                 29122 non-null  float64       \n",
      " 23  _Profit_                     29122 non-null  int64         \n",
      " 24  __Order_Day_                 29122 non-null  object        \n",
      " 25  order_date                   29122 non-null  datetime64[ns]\n",
      "dtypes: datetime64[ns](1), float64(1), int64(12), object(12)\n",
      "memory usage: 6.0+ MB\n"
     ]
    }
   ],
   "source": [
    "orders.info()"
   ]
  },
  {
   "cell_type": "markdown",
   "id": "e6e17698-6b7f-4ca9-b349-c574a13a7454",
   "metadata": {},
   "source": [
    "#### Categorising col for further labeling"
   ]
  },
  {
   "cell_type": "code",
   "execution_count": 38,
   "id": "496f000f-1fce-4230-b424-4765632aa058",
   "metadata": {},
   "outputs": [],
   "source": [
    "orders['_Order_Year_']=orders['_Order_Year_'].astype('category')\n",
    "orders['_Order_Month_']=orders['_Order_Month_'].astype('category')\n",
    "orders['_Order_Time']=orders['Order_Time'].astype('category')\n",
    "orders['Product_Department']=orders['Product_Department'].astype('category')\n",
    "orders['Product_Category']=orders['Product_Category'].astype('category')\n",
    "orders['Product_Name']=orders['Product_Name'].astype('category')\n",
    "orders['Customer_Market']=orders['Customer_Market'].astype('category')\n",
    "orders['Customer_Region']=orders['Customer_Region'].astype('category')\n",
    "orders['Customer_Country']=orders['Customer_Country'].astype('category')\n",
    "orders['Warehouse_Country']=orders['Warehouse_Country'].astype('category')\n",
    "orders['Shipment_Mode']=orders['Shipment_Mode'].astype('category')\n",
    "orders['__Order_Day_']=orders['__Order_Day_'].astype('category')\n"
   ]
  },
  {
   "cell_type": "code",
   "execution_count": 39,
   "id": "f9fb1b26-e051-40a0-aa94-9eb0d368e565",
   "metadata": {},
   "outputs": [
    {
     "name": "stdout",
     "output_type": "stream",
     "text": [
      "<class 'pandas.core.frame.DataFrame'>\n",
      "Index: 29122 entries, 0 to 30869\n",
      "Data columns (total 27 columns):\n",
      " #   Column                       Non-Null Count  Dtype         \n",
      "---  ------                       --------------  -----         \n",
      " 0   Order_ID_                    29122 non-null  int64         \n",
      " 1   _Order_Item_ID_              29122 non-null  int64         \n",
      " 2   _Order_YearMonth_            29122 non-null  int64         \n",
      " 3   _Order_Year_                 29122 non-null  category      \n",
      " 4   _Order_Month_                29122 non-null  category      \n",
      " 5   _Order_Day_                  29122 non-null  int64         \n",
      " 6   Order_Time                   29122 non-null  object        \n",
      " 7   Order_Quantity               29122 non-null  int64         \n",
      " 8   Product_Department           29122 non-null  category      \n",
      " 9   Product_Category             29122 non-null  category      \n",
      " 10  Product_Name                 29122 non-null  category      \n",
      " 11  _Customer_ID_                29122 non-null  int64         \n",
      " 12  Customer_Market              29122 non-null  category      \n",
      " 13  Customer_Region              29122 non-null  category      \n",
      " 14  Customer_Country             29122 non-null  category      \n",
      " 15  Warehouse_Country            29122 non-null  category      \n",
      " 16  Shipment_Year                29122 non-null  int64         \n",
      " 17  Shipment_Month               29122 non-null  int64         \n",
      " 18  Shipment_Day                 29122 non-null  int64         \n",
      " 19  Shipment_Mode                29122 non-null  category      \n",
      " 20  _Shipment_Days_-_Scheduled_  29122 non-null  int64         \n",
      " 21  _Gross_Sales_                29122 non-null  int64         \n",
      " 22  _Discount_%_                 29122 non-null  float64       \n",
      " 23  _Profit_                     29122 non-null  int64         \n",
      " 24  __Order_Day_                 29122 non-null  category      \n",
      " 25  order_date                   29122 non-null  datetime64[ns]\n",
      " 26  _Order_Time                  29122 non-null  category      \n",
      "dtypes: category(12), datetime64[ns](1), float64(1), int64(12), object(1)\n",
      "memory usage: 4.0+ MB\n"
     ]
    }
   ],
   "source": [
    "orders.info()"
   ]
  },
  {
   "cell_type": "markdown",
   "id": "396b5a51-60d7-4f90-81c4-8e724afb3c1b",
   "metadata": {},
   "source": [
    "#### Labelling the col"
   ]
  },
  {
   "cell_type": "code",
   "execution_count": 40,
   "id": "6aa93755-839a-4d98-baf0-2dd921280e79",
   "metadata": {},
   "outputs": [],
   "source": [
    "orders['_Order_Year_']=orders['_Order_Year_'].cat.codes\n",
    "orders['_Order_Month_']=orders['_Order_Month_'].cat.codes\n",
    "#orders['_Order_Time']=orders['Order_Time'].cat.codes\n",
    "orders['Product_Department']=orders['Product_Department'].cat.codes\n",
    "orders['Product_Category']=orders['Product_Category'].cat.codes\n",
    "orders['Product_Name']=orders['Product_Name'].cat.codes\n",
    "orders['Customer_Market']=orders['Customer_Market'].cat.codes\n",
    "orders['Customer_Region']=orders['Customer_Region'].cat.codes\n",
    "orders['Customer_Country']=orders['Customer_Country'].cat.codes\n",
    "orders['Warehouse_Country']=orders['Warehouse_Country'].cat.codes\n",
    "orders['Shipment_Mode']=orders['Shipment_Mode'].cat.codes\n",
    "orders['__Order_Day_']=orders['__Order_Day_'].cat.codes\n"
   ]
  },
  {
   "cell_type": "markdown",
   "id": "1130ecb8-62ad-4337-8dd7-a9f50889ec41",
   "metadata": {},
   "source": [
    "### Define Features and target"
   ]
  },
  {
   "cell_type": "code",
   "execution_count": 43,
   "id": "18b90f70-08dc-428b-bb45-4a9d8afdf705",
   "metadata": {},
   "outputs": [],
   "source": [
    "y=orders[['_Gross_Sales_']]\n",
    "X=orders[['_Order_Year_','_Order_Month_','Order_Quantity','_Discount_%_','_Shipment_Days_-_Scheduled_','Product_Department','Product_Category','Product_Name','Customer_Market','Customer_Region','Customer_Country','Warehouse_Country','Shipment_Mode','__Order_Day_']]\n",
    "y=orders[['_Gross_Sales_']]"
   ]
  },
  {
   "cell_type": "markdown",
   "id": "387dde33-0ac7-4534-b485-c961b57e2510",
   "metadata": {},
   "source": [
    "**Data Split**"
   ]
  },
  {
   "cell_type": "code",
   "execution_count": 44,
   "id": "e60ad4b9-a3b5-4cad-8f11-95e1eba3eb83",
   "metadata": {},
   "outputs": [],
   "source": [
    "from sklearn.model_selection import train_test_split\n",
    "X_train,X_test,y_train,y_test=train_test_split(X,y,test_size=0.20,random_state=0)"
   ]
  },
  {
   "cell_type": "code",
   "execution_count": 45,
   "id": "214f0c8a-c7a1-44a5-99c1-37f7578dc544",
   "metadata": {},
   "outputs": [],
   "source": [
    "classifiers = [\n",
    "    LinearRegression(),\n",
    "    DecisionTreeRegressor(),\n",
    "    RandomForestRegressor(),\n",
    "    SVR(),\n",
    "    ]\n",
    "\n",
    "name = []\n",
    "score = []\n",
    "models = []\n",
    "rmse = []\n",
    "i = 0\n",
    "for classifier in classifiers:\n",
    "    classifier.fit(X_train, y_train)   \n",
    "    name.append(type(classifier).__name__)\n",
    "    score.append(classifier.score(X_test, y_test))\n",
    "    models.append(classifier)\n",
    "    rmse.append(np.sqrt(mean_squared_error(classifier.predict(X_test), y_test)))\n"
   ]
  },
  {
   "cell_type": "markdown",
   "id": "a4f47082-3b52-49d0-a664-94089aa53dd0",
   "metadata": {},
   "source": [
    "**Comparing Model Performance**"
   ]
  },
  {
   "cell_type": "code",
   "execution_count": 46,
   "id": "c66ea85c-2c89-46fc-ac2e-37a1817dac7f",
   "metadata": {},
   "outputs": [
    {
     "data": {
      "text/html": [
       "<div>\n",
       "<style scoped>\n",
       "    .dataframe tbody tr th:only-of-type {\n",
       "        vertical-align: middle;\n",
       "    }\n",
       "\n",
       "    .dataframe tbody tr th {\n",
       "        vertical-align: top;\n",
       "    }\n",
       "\n",
       "    .dataframe thead th {\n",
       "        text-align: right;\n",
       "    }\n",
       "</style>\n",
       "<table border=\"1\" class=\"dataframe\">\n",
       "  <thead>\n",
       "    <tr style=\"text-align: right;\">\n",
       "      <th></th>\n",
       "      <th>rmse</th>\n",
       "      <th>score</th>\n",
       "      <th>model</th>\n",
       "    </tr>\n",
       "    <tr>\n",
       "      <th>name</th>\n",
       "      <th></th>\n",
       "      <th></th>\n",
       "      <th></th>\n",
       "    </tr>\n",
       "  </thead>\n",
       "  <tbody>\n",
       "    <tr>\n",
       "      <th>SVR</th>\n",
       "      <td>96.613165</td>\n",
       "      <td>0.286981</td>\n",
       "      <td>SVR()</td>\n",
       "    </tr>\n",
       "    <tr>\n",
       "      <th>LinearRegression</th>\n",
       "      <td>92.394304</td>\n",
       "      <td>0.347893</td>\n",
       "      <td>LinearRegression()</td>\n",
       "    </tr>\n",
       "    <tr>\n",
       "      <th>DecisionTreeRegressor</th>\n",
       "      <td>8.134956</td>\n",
       "      <td>0.994945</td>\n",
       "      <td>DecisionTreeRegressor()</td>\n",
       "    </tr>\n",
       "    <tr>\n",
       "      <th>RandomForestRegressor</th>\n",
       "      <td>5.687517</td>\n",
       "      <td>0.997529</td>\n",
       "      <td>(DecisionTreeRegressor(max_features=1.0, rando...</td>\n",
       "    </tr>\n",
       "  </tbody>\n",
       "</table>\n",
       "</div>"
      ],
      "text/plain": [
       "                            rmse     score  \\\n",
       "name                                         \n",
       "SVR                    96.613165  0.286981   \n",
       "LinearRegression       92.394304  0.347893   \n",
       "DecisionTreeRegressor   8.134956  0.994945   \n",
       "RandomForestRegressor   5.687517  0.997529   \n",
       "\n",
       "                                                                   model  \n",
       "name                                                                      \n",
       "SVR                                                                SVR()  \n",
       "LinearRegression                                      LinearRegression()  \n",
       "DecisionTreeRegressor                            DecisionTreeRegressor()  \n",
       "RandomForestRegressor  (DecisionTreeRegressor(max_features=1.0, rando...  "
      ]
     },
     "execution_count": 46,
     "metadata": {},
     "output_type": "execute_result"
    }
   ],
   "source": [
    "df_score = pd.DataFrame(list(zip(name,rmse, score, models)),columns=['name','rmse','score',\"model\"])\n",
    "df_score.set_index('name',inplace=True)\n",
    "df_score.sort_values(by=['score'],inplace=True)\n",
    "df_score"
   ]
  },
  {
   "cell_type": "markdown",
   "id": "bbcc6d7a-f640-456d-b0fa-d2ea3464a7ad",
   "metadata": {},
   "source": [
    "#### Prediction"
   ]
  },
  {
   "cell_type": "code",
   "execution_count": 48,
   "id": "9eafb2bf-96d1-4e88-929c-cfc5ab36c34a",
   "metadata": {},
   "outputs": [
    {
     "data": {
      "text/html": [
       "<style>#sk-container-id-1 {\n",
       "  /* Definition of color scheme common for light and dark mode */\n",
       "  --sklearn-color-text: black;\n",
       "  --sklearn-color-line: gray;\n",
       "  /* Definition of color scheme for unfitted estimators */\n",
       "  --sklearn-color-unfitted-level-0: #fff5e6;\n",
       "  --sklearn-color-unfitted-level-1: #f6e4d2;\n",
       "  --sklearn-color-unfitted-level-2: #ffe0b3;\n",
       "  --sklearn-color-unfitted-level-3: chocolate;\n",
       "  /* Definition of color scheme for fitted estimators */\n",
       "  --sklearn-color-fitted-level-0: #f0f8ff;\n",
       "  --sklearn-color-fitted-level-1: #d4ebff;\n",
       "  --sklearn-color-fitted-level-2: #b3dbfd;\n",
       "  --sklearn-color-fitted-level-3: cornflowerblue;\n",
       "\n",
       "  /* Specific color for light theme */\n",
       "  --sklearn-color-text-on-default-background: var(--sg-text-color, var(--theme-code-foreground, var(--jp-content-font-color1, black)));\n",
       "  --sklearn-color-background: var(--sg-background-color, var(--theme-background, var(--jp-layout-color0, white)));\n",
       "  --sklearn-color-border-box: var(--sg-text-color, var(--theme-code-foreground, var(--jp-content-font-color1, black)));\n",
       "  --sklearn-color-icon: #696969;\n",
       "\n",
       "  @media (prefers-color-scheme: dark) {\n",
       "    /* Redefinition of color scheme for dark theme */\n",
       "    --sklearn-color-text-on-default-background: var(--sg-text-color, var(--theme-code-foreground, var(--jp-content-font-color1, white)));\n",
       "    --sklearn-color-background: var(--sg-background-color, var(--theme-background, var(--jp-layout-color0, #111)));\n",
       "    --sklearn-color-border-box: var(--sg-text-color, var(--theme-code-foreground, var(--jp-content-font-color1, white)));\n",
       "    --sklearn-color-icon: #878787;\n",
       "  }\n",
       "}\n",
       "\n",
       "#sk-container-id-1 {\n",
       "  color: var(--sklearn-color-text);\n",
       "}\n",
       "\n",
       "#sk-container-id-1 pre {\n",
       "  padding: 0;\n",
       "}\n",
       "\n",
       "#sk-container-id-1 input.sk-hidden--visually {\n",
       "  border: 0;\n",
       "  clip: rect(1px 1px 1px 1px);\n",
       "  clip: rect(1px, 1px, 1px, 1px);\n",
       "  height: 1px;\n",
       "  margin: -1px;\n",
       "  overflow: hidden;\n",
       "  padding: 0;\n",
       "  position: absolute;\n",
       "  width: 1px;\n",
       "}\n",
       "\n",
       "#sk-container-id-1 div.sk-dashed-wrapped {\n",
       "  border: 1px dashed var(--sklearn-color-line);\n",
       "  margin: 0 0.4em 0.5em 0.4em;\n",
       "  box-sizing: border-box;\n",
       "  padding-bottom: 0.4em;\n",
       "  background-color: var(--sklearn-color-background);\n",
       "}\n",
       "\n",
       "#sk-container-id-1 div.sk-container {\n",
       "  /* jupyter's `normalize.less` sets `[hidden] { display: none; }`\n",
       "     but bootstrap.min.css set `[hidden] { display: none !important; }`\n",
       "     so we also need the `!important` here to be able to override the\n",
       "     default hidden behavior on the sphinx rendered scikit-learn.org.\n",
       "     See: https://github.com/scikit-learn/scikit-learn/issues/21755 */\n",
       "  display: inline-block !important;\n",
       "  position: relative;\n",
       "}\n",
       "\n",
       "#sk-container-id-1 div.sk-text-repr-fallback {\n",
       "  display: none;\n",
       "}\n",
       "\n",
       "div.sk-parallel-item,\n",
       "div.sk-serial,\n",
       "div.sk-item {\n",
       "  /* draw centered vertical line to link estimators */\n",
       "  background-image: linear-gradient(var(--sklearn-color-text-on-default-background), var(--sklearn-color-text-on-default-background));\n",
       "  background-size: 2px 100%;\n",
       "  background-repeat: no-repeat;\n",
       "  background-position: center center;\n",
       "}\n",
       "\n",
       "/* Parallel-specific style estimator block */\n",
       "\n",
       "#sk-container-id-1 div.sk-parallel-item::after {\n",
       "  content: \"\";\n",
       "  width: 100%;\n",
       "  border-bottom: 2px solid var(--sklearn-color-text-on-default-background);\n",
       "  flex-grow: 1;\n",
       "}\n",
       "\n",
       "#sk-container-id-1 div.sk-parallel {\n",
       "  display: flex;\n",
       "  align-items: stretch;\n",
       "  justify-content: center;\n",
       "  background-color: var(--sklearn-color-background);\n",
       "  position: relative;\n",
       "}\n",
       "\n",
       "#sk-container-id-1 div.sk-parallel-item {\n",
       "  display: flex;\n",
       "  flex-direction: column;\n",
       "}\n",
       "\n",
       "#sk-container-id-1 div.sk-parallel-item:first-child::after {\n",
       "  align-self: flex-end;\n",
       "  width: 50%;\n",
       "}\n",
       "\n",
       "#sk-container-id-1 div.sk-parallel-item:last-child::after {\n",
       "  align-self: flex-start;\n",
       "  width: 50%;\n",
       "}\n",
       "\n",
       "#sk-container-id-1 div.sk-parallel-item:only-child::after {\n",
       "  width: 0;\n",
       "}\n",
       "\n",
       "/* Serial-specific style estimator block */\n",
       "\n",
       "#sk-container-id-1 div.sk-serial {\n",
       "  display: flex;\n",
       "  flex-direction: column;\n",
       "  align-items: center;\n",
       "  background-color: var(--sklearn-color-background);\n",
       "  padding-right: 1em;\n",
       "  padding-left: 1em;\n",
       "}\n",
       "\n",
       "\n",
       "/* Toggleable style: style used for estimator/Pipeline/ColumnTransformer box that is\n",
       "clickable and can be expanded/collapsed.\n",
       "- Pipeline and ColumnTransformer use this feature and define the default style\n",
       "- Estimators will overwrite some part of the style using the `sk-estimator` class\n",
       "*/\n",
       "\n",
       "/* Pipeline and ColumnTransformer style (default) */\n",
       "\n",
       "#sk-container-id-1 div.sk-toggleable {\n",
       "  /* Default theme specific background. It is overwritten whether we have a\n",
       "  specific estimator or a Pipeline/ColumnTransformer */\n",
       "  background-color: var(--sklearn-color-background);\n",
       "}\n",
       "\n",
       "/* Toggleable label */\n",
       "#sk-container-id-1 label.sk-toggleable__label {\n",
       "  cursor: pointer;\n",
       "  display: block;\n",
       "  width: 100%;\n",
       "  margin-bottom: 0;\n",
       "  padding: 0.5em;\n",
       "  box-sizing: border-box;\n",
       "  text-align: center;\n",
       "}\n",
       "\n",
       "#sk-container-id-1 label.sk-toggleable__label-arrow:before {\n",
       "  /* Arrow on the left of the label */\n",
       "  content: \"▸\";\n",
       "  float: left;\n",
       "  margin-right: 0.25em;\n",
       "  color: var(--sklearn-color-icon);\n",
       "}\n",
       "\n",
       "#sk-container-id-1 label.sk-toggleable__label-arrow:hover:before {\n",
       "  color: var(--sklearn-color-text);\n",
       "}\n",
       "\n",
       "/* Toggleable content - dropdown */\n",
       "\n",
       "#sk-container-id-1 div.sk-toggleable__content {\n",
       "  max-height: 0;\n",
       "  max-width: 0;\n",
       "  overflow: hidden;\n",
       "  text-align: left;\n",
       "  /* unfitted */\n",
       "  background-color: var(--sklearn-color-unfitted-level-0);\n",
       "}\n",
       "\n",
       "#sk-container-id-1 div.sk-toggleable__content.fitted {\n",
       "  /* fitted */\n",
       "  background-color: var(--sklearn-color-fitted-level-0);\n",
       "}\n",
       "\n",
       "#sk-container-id-1 div.sk-toggleable__content pre {\n",
       "  margin: 0.2em;\n",
       "  border-radius: 0.25em;\n",
       "  color: var(--sklearn-color-text);\n",
       "  /* unfitted */\n",
       "  background-color: var(--sklearn-color-unfitted-level-0);\n",
       "}\n",
       "\n",
       "#sk-container-id-1 div.sk-toggleable__content.fitted pre {\n",
       "  /* unfitted */\n",
       "  background-color: var(--sklearn-color-fitted-level-0);\n",
       "}\n",
       "\n",
       "#sk-container-id-1 input.sk-toggleable__control:checked~div.sk-toggleable__content {\n",
       "  /* Expand drop-down */\n",
       "  max-height: 200px;\n",
       "  max-width: 100%;\n",
       "  overflow: auto;\n",
       "}\n",
       "\n",
       "#sk-container-id-1 input.sk-toggleable__control:checked~label.sk-toggleable__label-arrow:before {\n",
       "  content: \"▾\";\n",
       "}\n",
       "\n",
       "/* Pipeline/ColumnTransformer-specific style */\n",
       "\n",
       "#sk-container-id-1 div.sk-label input.sk-toggleable__control:checked~label.sk-toggleable__label {\n",
       "  color: var(--sklearn-color-text);\n",
       "  background-color: var(--sklearn-color-unfitted-level-2);\n",
       "}\n",
       "\n",
       "#sk-container-id-1 div.sk-label.fitted input.sk-toggleable__control:checked~label.sk-toggleable__label {\n",
       "  background-color: var(--sklearn-color-fitted-level-2);\n",
       "}\n",
       "\n",
       "/* Estimator-specific style */\n",
       "\n",
       "/* Colorize estimator box */\n",
       "#sk-container-id-1 div.sk-estimator input.sk-toggleable__control:checked~label.sk-toggleable__label {\n",
       "  /* unfitted */\n",
       "  background-color: var(--sklearn-color-unfitted-level-2);\n",
       "}\n",
       "\n",
       "#sk-container-id-1 div.sk-estimator.fitted input.sk-toggleable__control:checked~label.sk-toggleable__label {\n",
       "  /* fitted */\n",
       "  background-color: var(--sklearn-color-fitted-level-2);\n",
       "}\n",
       "\n",
       "#sk-container-id-1 div.sk-label label.sk-toggleable__label,\n",
       "#sk-container-id-1 div.sk-label label {\n",
       "  /* The background is the default theme color */\n",
       "  color: var(--sklearn-color-text-on-default-background);\n",
       "}\n",
       "\n",
       "/* On hover, darken the color of the background */\n",
       "#sk-container-id-1 div.sk-label:hover label.sk-toggleable__label {\n",
       "  color: var(--sklearn-color-text);\n",
       "  background-color: var(--sklearn-color-unfitted-level-2);\n",
       "}\n",
       "\n",
       "/* Label box, darken color on hover, fitted */\n",
       "#sk-container-id-1 div.sk-label.fitted:hover label.sk-toggleable__label.fitted {\n",
       "  color: var(--sklearn-color-text);\n",
       "  background-color: var(--sklearn-color-fitted-level-2);\n",
       "}\n",
       "\n",
       "/* Estimator label */\n",
       "\n",
       "#sk-container-id-1 div.sk-label label {\n",
       "  font-family: monospace;\n",
       "  font-weight: bold;\n",
       "  display: inline-block;\n",
       "  line-height: 1.2em;\n",
       "}\n",
       "\n",
       "#sk-container-id-1 div.sk-label-container {\n",
       "  text-align: center;\n",
       "}\n",
       "\n",
       "/* Estimator-specific */\n",
       "#sk-container-id-1 div.sk-estimator {\n",
       "  font-family: monospace;\n",
       "  border: 1px dotted var(--sklearn-color-border-box);\n",
       "  border-radius: 0.25em;\n",
       "  box-sizing: border-box;\n",
       "  margin-bottom: 0.5em;\n",
       "  /* unfitted */\n",
       "  background-color: var(--sklearn-color-unfitted-level-0);\n",
       "}\n",
       "\n",
       "#sk-container-id-1 div.sk-estimator.fitted {\n",
       "  /* fitted */\n",
       "  background-color: var(--sklearn-color-fitted-level-0);\n",
       "}\n",
       "\n",
       "/* on hover */\n",
       "#sk-container-id-1 div.sk-estimator:hover {\n",
       "  /* unfitted */\n",
       "  background-color: var(--sklearn-color-unfitted-level-2);\n",
       "}\n",
       "\n",
       "#sk-container-id-1 div.sk-estimator.fitted:hover {\n",
       "  /* fitted */\n",
       "  background-color: var(--sklearn-color-fitted-level-2);\n",
       "}\n",
       "\n",
       "/* Specification for estimator info (e.g. \"i\" and \"?\") */\n",
       "\n",
       "/* Common style for \"i\" and \"?\" */\n",
       "\n",
       ".sk-estimator-doc-link,\n",
       "a:link.sk-estimator-doc-link,\n",
       "a:visited.sk-estimator-doc-link {\n",
       "  float: right;\n",
       "  font-size: smaller;\n",
       "  line-height: 1em;\n",
       "  font-family: monospace;\n",
       "  background-color: var(--sklearn-color-background);\n",
       "  border-radius: 1em;\n",
       "  height: 1em;\n",
       "  width: 1em;\n",
       "  text-decoration: none !important;\n",
       "  margin-left: 1ex;\n",
       "  /* unfitted */\n",
       "  border: var(--sklearn-color-unfitted-level-1) 1pt solid;\n",
       "  color: var(--sklearn-color-unfitted-level-1);\n",
       "}\n",
       "\n",
       ".sk-estimator-doc-link.fitted,\n",
       "a:link.sk-estimator-doc-link.fitted,\n",
       "a:visited.sk-estimator-doc-link.fitted {\n",
       "  /* fitted */\n",
       "  border: var(--sklearn-color-fitted-level-1) 1pt solid;\n",
       "  color: var(--sklearn-color-fitted-level-1);\n",
       "}\n",
       "\n",
       "/* On hover */\n",
       "div.sk-estimator:hover .sk-estimator-doc-link:hover,\n",
       ".sk-estimator-doc-link:hover,\n",
       "div.sk-label-container:hover .sk-estimator-doc-link:hover,\n",
       ".sk-estimator-doc-link:hover {\n",
       "  /* unfitted */\n",
       "  background-color: var(--sklearn-color-unfitted-level-3);\n",
       "  color: var(--sklearn-color-background);\n",
       "  text-decoration: none;\n",
       "}\n",
       "\n",
       "div.sk-estimator.fitted:hover .sk-estimator-doc-link.fitted:hover,\n",
       ".sk-estimator-doc-link.fitted:hover,\n",
       "div.sk-label-container:hover .sk-estimator-doc-link.fitted:hover,\n",
       ".sk-estimator-doc-link.fitted:hover {\n",
       "  /* fitted */\n",
       "  background-color: var(--sklearn-color-fitted-level-3);\n",
       "  color: var(--sklearn-color-background);\n",
       "  text-decoration: none;\n",
       "}\n",
       "\n",
       "/* Span, style for the box shown on hovering the info icon */\n",
       ".sk-estimator-doc-link span {\n",
       "  display: none;\n",
       "  z-index: 9999;\n",
       "  position: relative;\n",
       "  font-weight: normal;\n",
       "  right: .2ex;\n",
       "  padding: .5ex;\n",
       "  margin: .5ex;\n",
       "  width: min-content;\n",
       "  min-width: 20ex;\n",
       "  max-width: 50ex;\n",
       "  color: var(--sklearn-color-text);\n",
       "  box-shadow: 2pt 2pt 4pt #999;\n",
       "  /* unfitted */\n",
       "  background: var(--sklearn-color-unfitted-level-0);\n",
       "  border: .5pt solid var(--sklearn-color-unfitted-level-3);\n",
       "}\n",
       "\n",
       ".sk-estimator-doc-link.fitted span {\n",
       "  /* fitted */\n",
       "  background: var(--sklearn-color-fitted-level-0);\n",
       "  border: var(--sklearn-color-fitted-level-3);\n",
       "}\n",
       "\n",
       ".sk-estimator-doc-link:hover span {\n",
       "  display: block;\n",
       "}\n",
       "\n",
       "/* \"?\"-specific style due to the `<a>` HTML tag */\n",
       "\n",
       "#sk-container-id-1 a.estimator_doc_link {\n",
       "  float: right;\n",
       "  font-size: 1rem;\n",
       "  line-height: 1em;\n",
       "  font-family: monospace;\n",
       "  background-color: var(--sklearn-color-background);\n",
       "  border-radius: 1rem;\n",
       "  height: 1rem;\n",
       "  width: 1rem;\n",
       "  text-decoration: none;\n",
       "  /* unfitted */\n",
       "  color: var(--sklearn-color-unfitted-level-1);\n",
       "  border: var(--sklearn-color-unfitted-level-1) 1pt solid;\n",
       "}\n",
       "\n",
       "#sk-container-id-1 a.estimator_doc_link.fitted {\n",
       "  /* fitted */\n",
       "  border: var(--sklearn-color-fitted-level-1) 1pt solid;\n",
       "  color: var(--sklearn-color-fitted-level-1);\n",
       "}\n",
       "\n",
       "/* On hover */\n",
       "#sk-container-id-1 a.estimator_doc_link:hover {\n",
       "  /* unfitted */\n",
       "  background-color: var(--sklearn-color-unfitted-level-3);\n",
       "  color: var(--sklearn-color-background);\n",
       "  text-decoration: none;\n",
       "}\n",
       "\n",
       "#sk-container-id-1 a.estimator_doc_link.fitted:hover {\n",
       "  /* fitted */\n",
       "  background-color: var(--sklearn-color-fitted-level-3);\n",
       "}\n",
       "</style><div id=\"sk-container-id-1\" class=\"sk-top-container\"><div class=\"sk-text-repr-fallback\"><pre>RandomForestRegressor(random_state=0)</pre><b>In a Jupyter environment, please rerun this cell to show the HTML representation or trust the notebook. <br />On GitHub, the HTML representation is unable to render, please try loading this page with nbviewer.org.</b></div><div class=\"sk-container\" hidden><div class=\"sk-item\"><div class=\"sk-estimator fitted sk-toggleable\"><input class=\"sk-toggleable__control sk-hidden--visually\" id=\"sk-estimator-id-1\" type=\"checkbox\" checked><label for=\"sk-estimator-id-1\" class=\"sk-toggleable__label fitted sk-toggleable__label-arrow fitted\">&nbsp;&nbsp;RandomForestRegressor<a class=\"sk-estimator-doc-link fitted\" rel=\"noreferrer\" target=\"_blank\" href=\"https://scikit-learn.org/1.4/modules/generated/sklearn.ensemble.RandomForestRegressor.html\">?<span>Documentation for RandomForestRegressor</span></a><span class=\"sk-estimator-doc-link fitted\">i<span>Fitted</span></span></label><div class=\"sk-toggleable__content fitted\"><pre>RandomForestRegressor(random_state=0)</pre></div> </div></div></div></div>"
      ],
      "text/plain": [
       "RandomForestRegressor(random_state=0)"
      ]
     },
     "execution_count": 48,
     "metadata": {},
     "output_type": "execute_result"
    }
   ],
   "source": [
    "model=RandomForestRegressor(random_state=0)\n",
    "model.fit(X_train,y_train.values.ravel())"
   ]
  },
  {
   "cell_type": "code",
   "execution_count": 49,
   "id": "6e903e4e-075b-468c-bc0d-449159e424ee",
   "metadata": {},
   "outputs": [
    {
     "data": {
      "text/plain": [
       "(5825, 14)"
      ]
     },
     "execution_count": 49,
     "metadata": {},
     "output_type": "execute_result"
    }
   ],
   "source": [
    "X_test.shape"
   ]
  },
  {
   "cell_type": "code",
   "execution_count": 63,
   "id": "20c5ade4-5642-4a67-8790-e9d73ab2be72",
   "metadata": {},
   "outputs": [
    {
     "data": {
      "text/plain": [
       "pandas.core.frame.DataFrame"
      ]
     },
     "execution_count": 63,
     "metadata": {},
     "output_type": "execute_result"
    }
   ],
   "source": [
    "type(y_test)"
   ]
  },
  {
   "cell_type": "code",
   "execution_count": 65,
   "id": "44ac02e4-242e-4c2c-834e-5530891c6c76",
   "metadata": {},
   "outputs": [],
   "source": [
    "y_testa=np.array(y_test)"
   ]
  },
  {
   "cell_type": "code",
   "execution_count": 57,
   "id": "717878f9-cfef-4621-a7d6-7e90005fc0be",
   "metadata": {},
   "outputs": [
    {
     "data": {
      "text/plain": [
       "(5825,)"
      ]
     },
     "execution_count": 57,
     "metadata": {},
     "output_type": "execute_result"
    }
   ],
   "source": [
    "y_pred_rfr.shape"
   ]
  },
  {
   "cell_type": "code",
   "execution_count": 61,
   "id": "97dffbe5-e81c-4627-8cc9-abf5e741d837",
   "metadata": {},
   "outputs": [
    {
     "data": {
      "text/plain": [
       "array([240., 200., 150., ..., 100., 130.,  11.])"
      ]
     },
     "execution_count": 61,
     "metadata": {},
     "output_type": "execute_result"
    }
   ],
   "source": [
    "y_pred_rfr"
   ]
  },
  {
   "cell_type": "code",
   "execution_count": 51,
   "id": "f0f9fb9e-7d47-4a1b-9608-09737e8dd692",
   "metadata": {},
   "outputs": [
    {
     "data": {
      "text/plain": [
       "array([240., 200., 150., ..., 100., 130.,  11.])"
      ]
     },
     "execution_count": 51,
     "metadata": {},
     "output_type": "execute_result"
    }
   ],
   "source": [
    "y_pred_rfr=model.predict(X_test)\n",
    "y_pred_rfr"
   ]
  },
  {
   "cell_type": "markdown",
   "id": "9738a75f-b115-4090-980d-7133579a12be",
   "metadata": {},
   "source": [
    "#### Thank you"
   ]
  },
  {
   "cell_type": "code",
   "execution_count": null,
   "id": "17c8cc13-03e2-4ea9-af0a-c97a48dccc57",
   "metadata": {},
   "outputs": [],
   "source": []
  }
 ],
 "metadata": {
  "kernelspec": {
   "display_name": "Python 3 (ipykernel)",
   "language": "python",
   "name": "python3"
  },
  "language_info": {
   "codemirror_mode": {
    "name": "ipython",
    "version": 3
   },
   "file_extension": ".py",
   "mimetype": "text/x-python",
   "name": "python",
   "nbconvert_exporter": "python",
   "pygments_lexer": "ipython3",
   "version": "3.12.4"
  }
 },
 "nbformat": 4,
 "nbformat_minor": 5
}
